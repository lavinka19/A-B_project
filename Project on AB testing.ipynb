{
 "cells": [
  {
   "cell_type": "code",
   "execution_count": 60,
   "id": "9b78ab58",
   "metadata": {},
   "outputs": [],
   "source": [
    "import pandas as pd\n",
    "from scipy import stats as ss\n",
    "import matplotlib.pyplot as plt\n",
    "import seaborn as sns\n",
    "import plotly.express as px\n",
    "import numpy as np\n",
    "import requests\n",
    "from urllib.parse import urlencode"
   ]
  },
  {
   "cell_type": "markdown",
   "id": "1df23222",
   "metadata": {},
   "source": [
    "## Задание 1. A/B–тестирование"
   ]
  },
  {
   "cell_type": "markdown",
   "id": "2d2b20c5",
   "metadata": {},
   "source": [
    "### 1.1 Условие\n",
    "\n",
    ">Одной из основных задач аналитика в нашей команде является корректное проведение экспериментов. Для этого мы применяем метод A/B–тестирования. В ходе тестирования одной гипотезы целевой группе была предложена новая механика оплаты услуг на сайте, у контрольной группы оставалась базовая механика. В качестве задания вам необходимо проанализировать итоги эксперимента и сделать вывод, стоит ли запускать новую механику оплаты на всех пользователей."
   ]
  },
  {
   "cell_type": "markdown",
   "id": "07b0e3e6",
   "metadata": {},
   "source": [
    "### 1.2 Входные данные"
   ]
  },
  {
   "cell_type": "markdown",
   "id": "f73bb511",
   "metadata": {},
   "source": [
    "#### 1.2 Входные данные\n",
    "\n",
    "В качестве входных данных вы имеете 4 csv-файла:\n",
    "\n",
    "- groups.csv – файл с информацией о принадлежности пользователя к контрольной или экспериментальной группе (А – контроль, B – целевая группа) \n",
    "\n",
    "- groups_add.csv – дополнительный файл с пользователями, который вам прислали спустя 2 дня после передачи данных\n",
    "\n",
    "- active_studs.csv – файл с информацией о пользователях, которые зашли на платформу в дни проведения эксперимента. \n",
    "\n",
    "- checks.csv – файл с информацией об оплатах пользователей в дни проведения эксперимента. "
   ]
  },
  {
   "cell_type": "code",
   "execution_count": 61,
   "id": "d8008da5",
   "metadata": {},
   "outputs": [],
   "source": [
    "# Ссылки на датасеты.\n",
    "\n",
    "groups_url = 'https://disk.yandex.ru/d/UhyYx41rTt3clQ'\n",
    "groups_add_url = 'https://disk.yandex.ru/d/5Kxrz02m3IBUwQ'\n",
    "active_studs_url = 'https://disk.yandex.ru/d/Tbs44Bm6H_FwFQ'\n",
    "checks_url = 'https://disk.yandex.ru/d/pH1q-VqcxXjsVA'\n",
    "\n",
    "# Функция для чтения через API Я.Диска.\n",
    "\n",
    "def ydisk_api(public_key: str) -> str:\n",
    "    base_url = 'https://cloud-api.yandex.net/v1/disk/public/resources/download?'\n",
    "    url = base_url + urlencode(dict(public_key=public_key))\n",
    "    response = requests.get(url)\n",
    "    download = response.json()['href']\n",
    "    return download"
   ]
  },
  {
   "cell_type": "code",
   "execution_count": 62,
   "id": "8d2c065b",
   "metadata": {},
   "outputs": [],
   "source": [
    "active_studs = pd.read_csv(ydisk_api(active_studs_url))\n",
    "checks = pd.read_csv(ydisk_api(checks_url), sep=';')\n",
    "group_add = pd.read_csv(ydisk_api(groups_add_url))\n",
    "groups = pd.read_csv(ydisk_api(groups_url), sep=';')"
   ]
  },
  {
   "cell_type": "markdown",
   "id": "3b892911",
   "metadata": {},
   "source": [
    "### EDA для groups"
   ]
  },
  {
   "cell_type": "code",
   "execution_count": 63,
   "id": "31381ade",
   "metadata": {},
   "outputs": [
    {
     "data": {
      "text/html": [
       "<div>\n",
       "<style scoped>\n",
       "    .dataframe tbody tr th:only-of-type {\n",
       "        vertical-align: middle;\n",
       "    }\n",
       "\n",
       "    .dataframe tbody tr th {\n",
       "        vertical-align: top;\n",
       "    }\n",
       "\n",
       "    .dataframe thead th {\n",
       "        text-align: right;\n",
       "    }\n",
       "</style>\n",
       "<table border=\"1\" class=\"dataframe\">\n",
       "  <thead>\n",
       "    <tr style=\"text-align: right;\">\n",
       "      <th></th>\n",
       "      <th>id</th>\n",
       "      <th>grp</th>\n",
       "    </tr>\n",
       "  </thead>\n",
       "  <tbody>\n",
       "    <tr>\n",
       "      <th>0</th>\n",
       "      <td>1489</td>\n",
       "      <td>B</td>\n",
       "    </tr>\n",
       "    <tr>\n",
       "      <th>1</th>\n",
       "      <td>1627</td>\n",
       "      <td>A</td>\n",
       "    </tr>\n",
       "    <tr>\n",
       "      <th>2</th>\n",
       "      <td>1768</td>\n",
       "      <td>B</td>\n",
       "    </tr>\n",
       "    <tr>\n",
       "      <th>3</th>\n",
       "      <td>1783</td>\n",
       "      <td>B</td>\n",
       "    </tr>\n",
       "    <tr>\n",
       "      <th>4</th>\n",
       "      <td>1794</td>\n",
       "      <td>A</td>\n",
       "    </tr>\n",
       "  </tbody>\n",
       "</table>\n",
       "</div>"
      ],
      "text/plain": [
       "     id grp\n",
       "0  1489   B\n",
       "1  1627   A\n",
       "2  1768   B\n",
       "3  1783   B\n",
       "4  1794   A"
      ]
     },
     "execution_count": 63,
     "metadata": {},
     "output_type": "execute_result"
    }
   ],
   "source": [
    "groups.head()"
   ]
  },
  {
   "cell_type": "code",
   "execution_count": 64,
   "id": "a4b2a130",
   "metadata": {},
   "outputs": [
    {
     "data": {
      "text/plain": [
       "id     0\n",
       "grp    0\n",
       "dtype: int64"
      ]
     },
     "execution_count": 64,
     "metadata": {},
     "output_type": "execute_result"
    }
   ],
   "source": [
    "groups.isna().sum()"
   ]
  },
  {
   "cell_type": "code",
   "execution_count": 65,
   "id": "4527ed01",
   "metadata": {},
   "outputs": [
    {
     "data": {
      "text/plain": [
       "0"
      ]
     },
     "execution_count": 65,
     "metadata": {},
     "output_type": "execute_result"
    }
   ],
   "source": [
    "groups.duplicated(subset=['id']).sum()"
   ]
  },
  {
   "cell_type": "code",
   "execution_count": 66,
   "id": "1a76e0eb",
   "metadata": {},
   "outputs": [
    {
     "data": {
      "text/plain": [
       "(74484, 2)"
      ]
     },
     "execution_count": 66,
     "metadata": {},
     "output_type": "execute_result"
    }
   ],
   "source": [
    "groups.shape"
   ]
  },
  {
   "cell_type": "markdown",
   "id": "dc37dde0",
   "metadata": {},
   "source": [
    "Количество строк: 74484  \n",
    "Пропущенные значения и дубликаты отсутствуют "
   ]
  },
  {
   "cell_type": "markdown",
   "id": "e9ae3c4a",
   "metadata": {},
   "source": [
    "### EDA для group_add"
   ]
  },
  {
   "cell_type": "code",
   "execution_count": 67,
   "id": "58129692",
   "metadata": {},
   "outputs": [
    {
     "data": {
      "text/html": [
       "<div>\n",
       "<style scoped>\n",
       "    .dataframe tbody tr th:only-of-type {\n",
       "        vertical-align: middle;\n",
       "    }\n",
       "\n",
       "    .dataframe tbody tr th {\n",
       "        vertical-align: top;\n",
       "    }\n",
       "\n",
       "    .dataframe thead th {\n",
       "        text-align: right;\n",
       "    }\n",
       "</style>\n",
       "<table border=\"1\" class=\"dataframe\">\n",
       "  <thead>\n",
       "    <tr style=\"text-align: right;\">\n",
       "      <th></th>\n",
       "      <th>id</th>\n",
       "      <th>grp</th>\n",
       "    </tr>\n",
       "  </thead>\n",
       "  <tbody>\n",
       "    <tr>\n",
       "      <th>0</th>\n",
       "      <td>5694584</td>\n",
       "      <td>B</td>\n",
       "    </tr>\n",
       "    <tr>\n",
       "      <th>1</th>\n",
       "      <td>5694830</td>\n",
       "      <td>B</td>\n",
       "    </tr>\n",
       "    <tr>\n",
       "      <th>2</th>\n",
       "      <td>5695057</td>\n",
       "      <td>B</td>\n",
       "    </tr>\n",
       "    <tr>\n",
       "      <th>3</th>\n",
       "      <td>5698872</td>\n",
       "      <td>B</td>\n",
       "    </tr>\n",
       "    <tr>\n",
       "      <th>4</th>\n",
       "      <td>5699067</td>\n",
       "      <td>B</td>\n",
       "    </tr>\n",
       "  </tbody>\n",
       "</table>\n",
       "</div>"
      ],
      "text/plain": [
       "        id grp\n",
       "0  5694584   B\n",
       "1  5694830   B\n",
       "2  5695057   B\n",
       "3  5698872   B\n",
       "4  5699067   B"
      ]
     },
     "execution_count": 67,
     "metadata": {},
     "output_type": "execute_result"
    }
   ],
   "source": [
    "group_add.head()"
   ]
  },
  {
   "cell_type": "code",
   "execution_count": 68,
   "id": "b85456c2",
   "metadata": {},
   "outputs": [
    {
     "data": {
      "text/plain": [
       "id     0\n",
       "grp    0\n",
       "dtype: int64"
      ]
     },
     "execution_count": 68,
     "metadata": {},
     "output_type": "execute_result"
    }
   ],
   "source": [
    "group_add.isna().sum()"
   ]
  },
  {
   "cell_type": "code",
   "execution_count": 69,
   "id": "b9c179b0",
   "metadata": {},
   "outputs": [
    {
     "data": {
      "text/plain": [
       "0"
      ]
     },
     "execution_count": 69,
     "metadata": {},
     "output_type": "execute_result"
    }
   ],
   "source": [
    "group_add.duplicated(subset=['id']).sum()"
   ]
  },
  {
   "cell_type": "code",
   "execution_count": 70,
   "id": "e44ce033",
   "metadata": {},
   "outputs": [
    {
     "data": {
      "text/plain": [
       "(92, 2)"
      ]
     },
     "execution_count": 70,
     "metadata": {},
     "output_type": "execute_result"
    }
   ],
   "source": [
    "group_add.shape"
   ]
  },
  {
   "cell_type": "markdown",
   "id": "b05ce269",
   "metadata": {},
   "source": [
    "Количество строк: 92   \n",
    "Пропущенные значения и дубликаты отсутствуют "
   ]
  },
  {
   "cell_type": "markdown",
   "id": "e0cdb73a",
   "metadata": {},
   "source": [
    "### EDA для active_studs"
   ]
  },
  {
   "cell_type": "code",
   "execution_count": 12,
   "id": "7a31394b",
   "metadata": {},
   "outputs": [
    {
     "data": {
      "text/html": [
       "<div>\n",
       "<style scoped>\n",
       "    .dataframe tbody tr th:only-of-type {\n",
       "        vertical-align: middle;\n",
       "    }\n",
       "\n",
       "    .dataframe tbody tr th {\n",
       "        vertical-align: top;\n",
       "    }\n",
       "\n",
       "    .dataframe thead th {\n",
       "        text-align: right;\n",
       "    }\n",
       "</style>\n",
       "<table border=\"1\" class=\"dataframe\">\n",
       "  <thead>\n",
       "    <tr style=\"text-align: right;\">\n",
       "      <th></th>\n",
       "      <th>student_id</th>\n",
       "    </tr>\n",
       "  </thead>\n",
       "  <tbody>\n",
       "    <tr>\n",
       "      <th>0</th>\n",
       "      <td>581585</td>\n",
       "    </tr>\n",
       "    <tr>\n",
       "      <th>1</th>\n",
       "      <td>5723133</td>\n",
       "    </tr>\n",
       "    <tr>\n",
       "      <th>2</th>\n",
       "      <td>3276743</td>\n",
       "    </tr>\n",
       "    <tr>\n",
       "      <th>3</th>\n",
       "      <td>4238589</td>\n",
       "    </tr>\n",
       "    <tr>\n",
       "      <th>4</th>\n",
       "      <td>4475369</td>\n",
       "    </tr>\n",
       "  </tbody>\n",
       "</table>\n",
       "</div>"
      ],
      "text/plain": [
       "   student_id\n",
       "0      581585\n",
       "1     5723133\n",
       "2     3276743\n",
       "3     4238589\n",
       "4     4475369"
      ]
     },
     "execution_count": 12,
     "metadata": {},
     "output_type": "execute_result"
    }
   ],
   "source": [
    "active_studs.head()"
   ]
  },
  {
   "cell_type": "code",
   "execution_count": 13,
   "id": "cb1a2931",
   "metadata": {},
   "outputs": [
    {
     "data": {
      "text/plain": [
       "student_id    0\n",
       "dtype: int64"
      ]
     },
     "execution_count": 13,
     "metadata": {},
     "output_type": "execute_result"
    }
   ],
   "source": [
    "active_studs.isna().sum()"
   ]
  },
  {
   "cell_type": "code",
   "execution_count": 14,
   "id": "348ecb0d",
   "metadata": {},
   "outputs": [
    {
     "data": {
      "text/plain": [
       "0"
      ]
     },
     "execution_count": 14,
     "metadata": {},
     "output_type": "execute_result"
    }
   ],
   "source": [
    "active_studs.duplicated(subset=['student_id']).sum()"
   ]
  },
  {
   "cell_type": "code",
   "execution_count": 15,
   "id": "0125ff11",
   "metadata": {},
   "outputs": [
    {
     "data": {
      "text/plain": [
       "(8341, 1)"
      ]
     },
     "execution_count": 15,
     "metadata": {},
     "output_type": "execute_result"
    }
   ],
   "source": [
    "active_studs.shape"
   ]
  },
  {
   "cell_type": "markdown",
   "id": "b8285180",
   "metadata": {},
   "source": [
    "Количество строк: 8341  \n",
    "Пропущенные значения и дубликаты отсутствуют"
   ]
  },
  {
   "cell_type": "markdown",
   "id": "9100f0d4",
   "metadata": {},
   "source": [
    "### EDA для checks"
   ]
  },
  {
   "cell_type": "code",
   "execution_count": 16,
   "id": "8992973a",
   "metadata": {},
   "outputs": [
    {
     "data": {
      "text/html": [
       "<div>\n",
       "<style scoped>\n",
       "    .dataframe tbody tr th:only-of-type {\n",
       "        vertical-align: middle;\n",
       "    }\n",
       "\n",
       "    .dataframe tbody tr th {\n",
       "        vertical-align: top;\n",
       "    }\n",
       "\n",
       "    .dataframe thead th {\n",
       "        text-align: right;\n",
       "    }\n",
       "</style>\n",
       "<table border=\"1\" class=\"dataframe\">\n",
       "  <thead>\n",
       "    <tr style=\"text-align: right;\">\n",
       "      <th></th>\n",
       "      <th>student_id</th>\n",
       "      <th>rev</th>\n",
       "    </tr>\n",
       "  </thead>\n",
       "  <tbody>\n",
       "    <tr>\n",
       "      <th>0</th>\n",
       "      <td>1627</td>\n",
       "      <td>990.0</td>\n",
       "    </tr>\n",
       "    <tr>\n",
       "      <th>1</th>\n",
       "      <td>3185</td>\n",
       "      <td>690.0</td>\n",
       "    </tr>\n",
       "    <tr>\n",
       "      <th>2</th>\n",
       "      <td>25973</td>\n",
       "      <td>690.0</td>\n",
       "    </tr>\n",
       "    <tr>\n",
       "      <th>3</th>\n",
       "      <td>26280</td>\n",
       "      <td>690.0</td>\n",
       "    </tr>\n",
       "    <tr>\n",
       "      <th>4</th>\n",
       "      <td>100300</td>\n",
       "      <td>990.0</td>\n",
       "    </tr>\n",
       "  </tbody>\n",
       "</table>\n",
       "</div>"
      ],
      "text/plain": [
       "   student_id    rev\n",
       "0        1627  990.0\n",
       "1        3185  690.0\n",
       "2       25973  690.0\n",
       "3       26280  690.0\n",
       "4      100300  990.0"
      ]
     },
     "execution_count": 16,
     "metadata": {},
     "output_type": "execute_result"
    }
   ],
   "source": [
    "checks.head()"
   ]
  },
  {
   "cell_type": "code",
   "execution_count": 17,
   "id": "342a557f",
   "metadata": {},
   "outputs": [
    {
     "data": {
      "text/plain": [
       "student_id    0\n",
       "rev           0\n",
       "dtype: int64"
      ]
     },
     "execution_count": 17,
     "metadata": {},
     "output_type": "execute_result"
    }
   ],
   "source": [
    "checks.isna().sum()"
   ]
  },
  {
   "cell_type": "code",
   "execution_count": 18,
   "id": "7087c6e7",
   "metadata": {},
   "outputs": [
    {
     "data": {
      "text/plain": [
       "0"
      ]
     },
     "execution_count": 18,
     "metadata": {},
     "output_type": "execute_result"
    }
   ],
   "source": [
    "checks.duplicated(subset=['student_id']).sum()"
   ]
  },
  {
   "cell_type": "code",
   "execution_count": 19,
   "id": "77be2e0d",
   "metadata": {},
   "outputs": [
    {
     "data": {
      "text/plain": [
       "(541, 2)"
      ]
     },
     "execution_count": 19,
     "metadata": {},
     "output_type": "execute_result"
    }
   ],
   "source": [
    "checks.shape"
   ]
  },
  {
   "cell_type": "markdown",
   "id": "8f69aac2",
   "metadata": {},
   "source": [
    "Количество строк: 541  \n",
    "Пропущенные значения и дубликаты отсутствуют"
   ]
  },
  {
   "cell_type": "markdown",
   "id": "a65f6f6e",
   "metadata": {},
   "source": [
    "### Посмотрим на распределение людей по группам\n",
    "Для этого объединим два датафрейма в один"
   ]
  },
  {
   "cell_type": "code",
   "execution_count": 20,
   "id": "8884e59b",
   "metadata": {},
   "outputs": [],
   "source": [
    "all_groups = pd.concat([groups, group_add])"
   ]
  },
  {
   "cell_type": "code",
   "execution_count": 21,
   "id": "881e7a8e",
   "metadata": {},
   "outputs": [
    {
     "data": {
      "text/plain": [
       "0"
      ]
     },
     "execution_count": 21,
     "metadata": {},
     "output_type": "execute_result"
    }
   ],
   "source": [
    "#проверяем дубликаты в общей таблице\n",
    "all_groups.duplicated(subset='id').sum()"
   ]
  },
  {
   "cell_type": "code",
   "execution_count": 22,
   "id": "e2d07292",
   "metadata": {},
   "outputs": [
    {
     "data": {
      "text/plain": [
       "B    0.80298\n",
       "A    0.19702\n",
       "Name: grp, dtype: float64"
      ]
     },
     "execution_count": 22,
     "metadata": {},
     "output_type": "execute_result"
    }
   ],
   "source": [
    "all_groups.grp.value_counts(normalize=True)"
   ]
  },
  {
   "cell_type": "code",
   "execution_count": 23,
   "id": "f44febc9",
   "metadata": {},
   "outputs": [
    {
     "data": {
      "text/plain": [
       "Text(0.5, 0, 'group')"
      ]
     },
     "execution_count": 23,
     "metadata": {},
     "output_type": "execute_result"
    },
    {
     "data": {
      "image/png": "[encoded data removed]",
      "text/plain": [
       "<Figure size 432x288 with 1 Axes>"
      ]
     },
     "metadata": {
      "needs_background": "light"
     },
     "output_type": "display_data"
    }
   ],
   "source": [
    "all_groups.grp.sort_values().hist()\n",
    "plt.xlabel('group')"
   ]
  },
  {
   "cell_type": "markdown",
   "id": "8541efba",
   "metadata": {},
   "source": [
    "Количество людей в группах неравномерное"
   ]
  },
  {
   "cell_type": "markdown",
   "id": "7ad9e1ba",
   "metadata": {},
   "source": [
    "Оставим только тех, кто зашел на сайт в дни эксперимента. Используем inner join, т.к. нам нужно только совпадение тех, кто есть в группах с теми, кто зашел."
   ]
  },
  {
   "cell_type": "code",
   "execution_count": 24,
   "id": "26a55710",
   "metadata": {},
   "outputs": [],
   "source": [
    "all_active_groups = pd.merge(active_studs, all_groups, how='inner', left_on='student_id', right_on='id')[['id', 'grp']]"
   ]
  },
  {
   "cell_type": "code",
   "execution_count": 25,
   "id": "308caf2a",
   "metadata": {},
   "outputs": [
    {
     "data": {
      "text/plain": [
       "Text(0.5, 0, 'group')"
      ]
     },
     "execution_count": 25,
     "metadata": {},
     "output_type": "execute_result"
    },
    {
     "data": {
      "image/png": "[encoded data removed]",
      "text/plain": [
       "<Figure size 432x288 with 1 Axes>"
      ]
     },
     "metadata": {
      "needs_background": "light"
     },
     "output_type": "display_data"
    }
   ],
   "source": [
    "all_active_groups.grp.sort_values().hist()\n",
    "plt.xlabel('group')"
   ]
  },
  {
   "cell_type": "markdown",
   "id": "79d5c4b3",
   "metadata": {},
   "source": [
    "Вывод: группы набраны неравномерно. Проверим конверсию на вход на сайт в дни эксперимента. Предварительно она должна быть примерно одинаковой, так как измененная система оплаты не может влиять на решения клиента зайти на сайт. Если она различается, значит присутствуют ошибки в системе сплитования и наш эксперимент может не иметь смысл. "
   ]
  },
  {
   "cell_type": "markdown",
   "id": "1485b1bb",
   "metadata": {},
   "source": [
    "### Проверим конверсию входа на сайт среди всех пользователей по группам. "
   ]
  },
  {
   "cell_type": "code",
   "execution_count": 26,
   "id": "80a5d929",
   "metadata": {},
   "outputs": [],
   "source": [
    "#создадим колонку с 1 для зашедших на сайт для удобства подсчета\n",
    "active_studs['enter'] = 1"
   ]
  },
  {
   "cell_type": "code",
   "execution_count": 27,
   "id": "6541c141",
   "metadata": {},
   "outputs": [],
   "source": [
    "#создадим общую таблицу, где 1 - зашел на сайт, 0 - нет\n",
    "all_users_entries = pd.merge(all_groups, active_studs, how='left', left_on='id', right_on='student_id').fillna(0)"
   ]
  },
  {
   "cell_type": "code",
   "execution_count": 28,
   "id": "fe828bc3",
   "metadata": {},
   "outputs": [],
   "source": [
    "CR_enterA = round(all_users_entries.query('grp == \"A\"').enter.sum() / all_users_entries.query('grp == \"A\"').shape[0] * 100, 2)"
   ]
  },
  {
   "cell_type": "code",
   "execution_count": 29,
   "id": "f1f232fe",
   "metadata": {},
   "outputs": [],
   "source": [
    "CR_enterB = round(all_users_entries.query('grp == \"B\"').enter.sum() / all_users_entries.query('grp == \"B\"').shape[0]* 100, 2)"
   ]
  },
  {
   "cell_type": "markdown",
   "id": "4d06121f",
   "metadata": {},
   "source": [
    "Конверсия на вход в группе А 10.47, в группе B 11.36. Мы не будем статистически проверять различия данной метрики, поскольку она не является целевой для принятия решения. Здесь можно просто посмотреть \"на глаз\" - примерно одинаковая и это дает возможность нам двигаться дальше. "
   ]
  },
  {
   "cell_type": "markdown",
   "id": "bf8f4578",
   "metadata": {},
   "source": [
    "### Посмотрим на конверсию в покупку среди тех, кто зашел на сайт\n",
    "Конверсия в покупку - может являться нашей целевой метрикой, поскольку нам важно понимать, повлияла ли измененная система оплаты на принятие решение пользователя о покупке. "
   ]
  },
  {
   "cell_type": "code",
   "execution_count": 30,
   "id": "85206e22",
   "metadata": {},
   "outputs": [],
   "source": [
    "#объединим тех, кто зашел на сайт и тех, кто совершил оплату\n",
    "enter_and_buy = pd \\\n",
    "                    .merge(all_active_groups, checks, how='left', left_on='id', right_on='student_id') \\\n",
    "                    .fillna(0)[['id', 'grp', 'rev']]"
   ]
  },
  {
   "cell_type": "code",
   "execution_count": 31,
   "id": "a12d8eb9",
   "metadata": {},
   "outputs": [],
   "source": [
    "CR_buyA = round(enter_and_buy.query('grp == \"A\" and rev != 0').shape[0] / enter_and_buy.query('grp == \"A\"').shape[0] * 100, 2)"
   ]
  },
  {
   "cell_type": "code",
   "execution_count": 32,
   "id": "e587f349",
   "metadata": {},
   "outputs": [],
   "source": [
    "CR_buyB = round(enter_and_buy.query('grp == \"B\" and rev != 0').shape[0] / enter_and_buy.query('grp == \"B\"').shape[0] * 100, 2)"
   ]
  },
  {
   "cell_type": "code",
   "execution_count": 33,
   "id": "a6c50aa8",
   "metadata": {},
   "outputs": [
    {
     "name": "stdout",
     "output_type": "stream",
     "text": [
      "Конверсия в оплату для группы А: 5.07%, для группы B: 4.62%\n"
     ]
    }
   ],
   "source": [
    "print(f'Конверсия в оплату для группы А: {CR_buyA}%, для группы B: {CR_buyB}%')"
   ]
  },
  {
   "cell_type": "markdown",
   "id": "f45e96ef",
   "metadata": {},
   "source": [
    "Конверсия в оплату так же на первый взгляд примерно одинакова."
   ]
  },
  {
   "cell_type": "markdown",
   "id": "dddfd3d6",
   "metadata": {},
   "source": [
    "### Считаем критерий хи-квадрат\n",
    "Проверим, является ли различие в конверсии в покупку стат значимым - для этого посчиатем критерий хи-квадрат (данные дискретны, выборки независимы). \n",
    "Построим для этого таблицу сопряженности. Мы хотим проверить, зависит ли доля совершивших оплату от группы. Наша гипотеза H0: распределение не зависит от группы."
   ]
  },
  {
   "cell_type": "code",
   "execution_count": 34,
   "id": "5b8f2c09",
   "metadata": {},
   "outputs": [],
   "source": [
    "#для использования функции crosstab создадим столбец купил/не купил\n",
    "# enter_and_buy['paid'] = np.where(enter_and_buy['rev'] > 0, 1, 0)"
   ]
  },
  {
   "cell_type": "code",
   "execution_count": 35,
   "id": "c5a269eb",
   "metadata": {},
   "outputs": [],
   "source": [
    "enter_and_buy['paid'] = pd.get_dummies(enter_and_buy.rev == 0)[1]"
   ]
  },
  {
   "cell_type": "code",
   "execution_count": 36,
   "id": "40356086",
   "metadata": {},
   "outputs": [],
   "source": [
    "cross_table = pd.crosstab(enter_and_buy['grp'], enter_and_buy['paid'])"
   ]
  },
  {
   "cell_type": "code",
   "execution_count": 37,
   "id": "57b23aa3",
   "metadata": {},
   "outputs": [],
   "source": [
    "a, p_value, df, arr = ss.chi2_contingency(cross_table, correction=False)"
   ]
  },
  {
   "cell_type": "code",
   "execution_count": 38,
   "id": "bcc62ad0",
   "metadata": {},
   "outputs": [
    {
     "data": {
      "text/plain": [
       "0.45"
      ]
     },
     "execution_count": 38,
     "metadata": {},
     "output_type": "execute_result"
    }
   ],
   "source": [
    "round(p_value, 2)"
   ]
  },
  {
   "cell_type": "markdown",
   "id": "f046c7e5",
   "metadata": {},
   "source": [
    "Вывод: да, действительно, p_value превышает 0.05, значит различия не статзначимы. То есть распределение в двух группах одинаково, различия между ними по конверсии в оплату нет (либо размер выборки маловат)"
   ]
  },
  {
   "cell_type": "markdown",
   "id": "e3450191",
   "metadata": {},
   "source": [
    "### Теперь перейдем к исследованию выручки. \n",
    "Средний чек на пользователя также является важным показателем для нас. Для того, чтобы принять решение о критерии сравнения, необходимо для начала посмотреть и оценить нормальность распределения выручки по группам."
   ]
  },
  {
   "cell_type": "code",
   "execution_count": 39,
   "id": "a6a42b24",
   "metadata": {},
   "outputs": [],
   "source": [
    "#создаем df отдельно для группы А\n",
    "enter_and_buy_A = enter_and_buy.query('grp == \"A\" & rev != 0')"
   ]
  },
  {
   "cell_type": "code",
   "execution_count": 40,
   "id": "d5b95cfd",
   "metadata": {},
   "outputs": [],
   "source": [
    "#создаем df отдельно для группы B\n",
    "enter_and_buy_B = enter_and_buy.query('grp == \"B\" & rev != 0')"
   ]
  },
  {
   "cell_type": "code",
   "execution_count": 71,
   "id": "9edca27b",
   "metadata": {},
   "outputs": [
    {
     "data": {
      "application/vnd.plotly.v1+json": {
       "config": {
        "plotlyServerURL": "https://plot.ly"
       },
       "data": [
        {
         "alignmentgroup": "True",
         "bingroup": "x",
         "hovertemplate": "grp=A<br>rev=%{x}<br>count=%{y}<extra></extra>",
         "legendgroup": "A",
         "marker": {
          "color": "#636efa",
          "opacity": 0.6,
          "pattern": {
           "shape": ""
          }
         },
         "name": "A",
         "offsetgroup": "A",
         "orientation": "v",
         "showlegend": true,
         "type": "histogram",
         "x": [
          1530,
          1980,
          580,
          2910,
          690,
          3660,
          840,
          580,
          590,
          290,
          1180,
          199,
          1140,
          580,
          290,
          290,
          199,
          489,
          3660,
          2890,
          590,
          690,
          199,
          1160,
          290,
          2820,
          290,
          2900,
          1039,
          1830,
          1530,
          290,
          580,
          1530,
          840,
          290,
          290,
          2820,
          290,
          290,
          2220,
          290,
          580,
          290,
          690,
          290,
          990,
          1160,
          990,
          290,
          990,
          990,
          290,
          290,
          199,
          690,
          580,
          840,
          199,
          290,
          290,
          290,
          590,
          290,
          590,
          990,
          290,
          590,
          489,
          290,
          870,
          1140,
          290,
          3660,
          2910,
          290,
          398,
          290
         ],
         "xaxis": "x",
         "yaxis": "y"
        },
        {
         "alignmentgroup": "True",
         "bingroup": "x",
         "hovertemplate": "grp=B<br>rev=%{x}<br>count=%{y}<extra></extra>",
         "legendgroup": "B",
         "marker": {
          "color": "#EF553B",
          "opacity": 0.6,
          "pattern": {
           "shape": ""
          }
         },
         "name": "B",
         "offsetgroup": "B",
         "orientation": "v",
         "showlegend": true,
         "type": "histogram",
         "x": [
          1900.0001,
          1900,
          1900,
          1900,
          1900,
          690,
          290,
          290,
          690,
          1900,
          990,
          199,
          1900.0001,
          990,
          1900,
          1900,
          1900,
          1900,
          290,
          1900,
          398,
          690,
          290,
          1900,
          1900,
          580,
          580,
          398,
          199,
          990,
          199,
          1900,
          1900,
          1900,
          1140,
          1900,
          870,
          199,
          290,
          1140,
          1900,
          1900,
          398,
          290,
          1900,
          690,
          3660,
          990,
          1900.0001,
          1388,
          1900,
          1900,
          1900,
          1530,
          398,
          590,
          590,
          1900.0001,
          840,
          1900.0001,
          1140,
          840,
          990,
          290,
          1900,
          199,
          1900.0001,
          1900,
          690,
          1900,
          2890,
          1900.0001,
          489,
          1980,
          990,
          1900,
          1900,
          290,
          1530,
          1900,
          290,
          1900.0001,
          1900,
          1900,
          1900,
          690,
          1900,
          1900.0001,
          1900,
          1900.0001,
          199,
          1900,
          990,
          990,
          840,
          290,
          290,
          1900.0001,
          840,
          1900,
          1900,
          1900,
          1900,
          1900,
          199,
          1140,
          1900.0001,
          1140,
          1900,
          2890,
          290,
          840,
          1900,
          290,
          840,
          990,
          1729,
          199,
          290,
          1160,
          1900.0001,
          1140,
          1900.0001,
          690,
          1900,
          290,
          1900,
          290,
          1900.0001,
          290,
          290,
          1900.0001,
          840,
          290,
          290,
          1900,
          290,
          870,
          1900.0001,
          1900,
          199,
          990,
          290,
          1900,
          290,
          1900.0001,
          1530,
          1900,
          580,
          690,
          290,
          290,
          1900,
          1900,
          1050,
          4650,
          1900.0001,
          290,
          290,
          1900.0001,
          1900,
          1900.0001,
          1140,
          199,
          199,
          990,
          1900,
          1900,
          690,
          290,
          290,
          840,
          1900,
          2099,
          1900.0001,
          1900,
          590,
          1900,
          796,
          1900,
          1900,
          199,
          870,
          1900.0001,
          199,
          690,
          990,
          1900,
          1530,
          199,
          590,
          1900.0001,
          290,
          1900,
          199,
          1900,
          1900.0001,
          1900,
          2099,
          2890,
          199,
          290,
          1900,
          1900.0001,
          1530,
          840,
          290,
          840,
          840,
          590,
          1900,
          580,
          290,
          1900,
          840,
          199,
          990,
          1339,
          1900,
          840,
          1900,
          1900,
          1900,
          1900,
          2190,
          199,
          990,
          990,
          1900,
          290,
          1900,
          870,
          1900,
          1900,
          840,
          2910,
          290,
          1900,
          290,
          290,
          290,
          1900,
          1900,
          199,
          990,
          199,
          840,
          1900,
          1900.0001,
          1900,
          3040,
          3660,
          590,
          1900.0001,
          398,
          840,
          2099,
          1900,
          1900,
          1900.0001,
          3260,
          199,
          1900.0001,
          2220,
          1900,
          840,
          199,
          199,
          1968,
          1140,
          1900.0001,
          840,
          840,
          199,
          199,
          1900,
          1900,
          1900,
          290,
          1900,
          1900,
          1900.0001,
          1140,
          840,
          1900,
          398,
          290,
          580,
          1900,
          290,
          290,
          1900,
          1900,
          199,
          690,
          290,
          990,
          1900,
          1900.0001,
          690,
          2910,
          840,
          1900.0001,
          880,
          870,
          1900,
          690,
          1980,
          290,
          1900.0001,
          1900,
          199,
          597,
          290
         ],
         "xaxis": "x",
         "yaxis": "y"
        }
       ],
       "layout": {
        "barmode": "relative",
        "legend": {
         "title": {
          "text": "grp"
         },
         "tracegroupgap": 0
        },
        "margin": {
         "t": 60
        },
        "template": {
         "data": {
          "bar": [
           {
            "error_x": {
             "color": "#2a3f5f"
            },
            "error_y": {
             "color": "#2a3f5f"
            },
            "marker": {
             "line": {
              "color": "#E5ECF6",
              "width": 0.5
             },
             "pattern": {
              "fillmode": "overlay",
              "size": 10,
              "solidity": 0.2
             }
            },
            "type": "bar"
           }
          ],
          "barpolar": [
           {
            "marker": {
             "line": {
              "color": "#E5ECF6",
              "width": 0.5
             },
             "pattern": {
              "fillmode": "overlay",
              "size": 10,
              "solidity": 0.2
             }
            },
            "type": "barpolar"
           }
          ],
          "carpet": [
           {
            "aaxis": {
             "endlinecolor": "#2a3f5f",
             "gridcolor": "white",
             "linecolor": "white",
             "minorgridcolor": "white",
             "startlinecolor": "#2a3f5f"
            },
            "baxis": {
             "endlinecolor": "#2a3f5f",
             "gridcolor": "white",
             "linecolor": "white",
             "minorgridcolor": "white",
             "startlinecolor": "#2a3f5f"
            },
            "type": "carpet"
           }
          ],
          "choropleth": [
           {
            "colorbar": {
             "outlinewidth": 0,
             "ticks": ""
            },
            "type": "choropleth"
           }
          ],
          "contour": [
           {
            "colorbar": {
             "outlinewidth": 0,
             "ticks": ""
            },
            "colorscale": [
             [
              0,
              "#0d0887"
             ],
             [
              0.1111111111111111,
              "#46039f"
             ],
             [
              0.2222222222222222,
              "#7201a8"
             ],
             [
              0.3333333333333333,
              "#9c179e"
             ],
             [
              0.4444444444444444,
              "#bd3786"
             ],
             [
              0.5555555555555556,
              "#d8576b"
             ],
             [
              0.6666666666666666,
              "#ed7953"
             ],
             [
              0.7777777777777778,
              "#fb9f3a"
             ],
             [
              0.8888888888888888,
              "#fdca26"
             ],
             [
              1,
              "#f0f921"
             ]
            ],
            "type": "contour"
           }
          ],
          "contourcarpet": [
           {
            "colorbar": {
             "outlinewidth": 0,
             "ticks": ""
            },
            "type": "contourcarpet"
           }
          ],
          "heatmap": [
           {
            "colorbar": {
             "outlinewidth": 0,
             "ticks": ""
            },
            "colorscale": [
             [
              0,
              "#0d0887"
             ],
             [
              0.1111111111111111,
              "#46039f"
             ],
             [
              0.2222222222222222,
              "#7201a8"
             ],
             [
              0.3333333333333333,
              "#9c179e"
             ],
             [
              0.4444444444444444,
              "#bd3786"
             ],
             [
              0.5555555555555556,
              "#d8576b"
             ],
             [
              0.6666666666666666,
              "#ed7953"
             ],
             [
              0.7777777777777778,
              "#fb9f3a"
             ],
             [
              0.8888888888888888,
              "#fdca26"
             ],
             [
              1,
              "#f0f921"
             ]
            ],
            "type": "heatmap"
           }
          ],
          "heatmapgl": [
           {
            "colorbar": {
             "outlinewidth": 0,
             "ticks": ""
            },
            "colorscale": [
             [
              0,
              "#0d0887"
             ],
             [
              0.1111111111111111,
              "#46039f"
             ],
             [
              0.2222222222222222,
              "#7201a8"
             ],
             [
              0.3333333333333333,
              "#9c179e"
             ],
             [
              0.4444444444444444,
              "#bd3786"
             ],
             [
              0.5555555555555556,
              "#d8576b"
             ],
             [
              0.6666666666666666,
              "#ed7953"
             ],
             [
              0.7777777777777778,
              "#fb9f3a"
             ],
             [
              0.8888888888888888,
              "#fdca26"
             ],
             [
              1,
              "#f0f921"
             ]
            ],
            "type": "heatmapgl"
           }
          ],
          "histogram": [
           {
            "marker": {
             "pattern": {
              "fillmode": "overlay",
              "size": 10,
              "solidity": 0.2
             }
            },
            "type": "histogram"
           }
          ],
          "histogram2d": [
           {
            "colorbar": {
             "outlinewidth": 0,
             "ticks": ""
            },
            "colorscale": [
             [
              0,
              "#0d0887"
             ],
             [
              0.1111111111111111,
              "#46039f"
             ],
             [
              0.2222222222222222,
              "#7201a8"
             ],
             [
              0.3333333333333333,
              "#9c179e"
             ],
             [
              0.4444444444444444,
              "#bd3786"
             ],
             [
              0.5555555555555556,
              "#d8576b"
             ],
             [
              0.6666666666666666,
              "#ed7953"
             ],
             [
              0.7777777777777778,
              "#fb9f3a"
             ],
             [
              0.8888888888888888,
              "#fdca26"
             ],
             [
              1,
              "#f0f921"
             ]
            ],
            "type": "histogram2d"
           }
          ],
          "histogram2dcontour": [
           {
            "colorbar": {
             "outlinewidth": 0,
             "ticks": ""
            },
            "colorscale": [
             [
              0,
              "#0d0887"
             ],
             [
              0.1111111111111111,
              "#46039f"
             ],
             [
              0.2222222222222222,
              "#7201a8"
             ],
             [
              0.3333333333333333,
              "#9c179e"
             ],
             [
              0.4444444444444444,
              "#bd3786"
             ],
             [
              0.5555555555555556,
              "#d8576b"
             ],
             [
              0.6666666666666666,
              "#ed7953"
             ],
             [
              0.7777777777777778,
              "#fb9f3a"
             ],
             [
              0.8888888888888888,
              "#fdca26"
             ],
             [
              1,
              "#f0f921"
             ]
            ],
            "type": "histogram2dcontour"
           }
          ],
          "mesh3d": [
           {
            "colorbar": {
             "outlinewidth": 0,
             "ticks": ""
            },
            "type": "mesh3d"
           }
          ],
          "parcoords": [
           {
            "line": {
             "colorbar": {
              "outlinewidth": 0,
              "ticks": ""
             }
            },
            "type": "parcoords"
           }
          ],
          "pie": [
           {
            "automargin": true,
            "type": "pie"
           }
          ],
          "scatter": [
           {
            "fillpattern": {
             "fillmode": "overlay",
             "size": 10,
             "solidity": 0.2
            },
            "type": "scatter"
           }
          ],
          "scatter3d": [
           {
            "line": {
             "colorbar": {
              "outlinewidth": 0,
              "ticks": ""
             }
            },
            "marker": {
             "colorbar": {
              "outlinewidth": 0,
              "ticks": ""
             }
            },
            "type": "scatter3d"
           }
          ],
          "scattercarpet": [
           {
            "marker": {
             "colorbar": {
              "outlinewidth": 0,
              "ticks": ""
             }
            },
            "type": "scattercarpet"
           }
          ],
          "scattergeo": [
           {
            "marker": {
             "colorbar": {
              "outlinewidth": 0,
              "ticks": ""
             }
            },
            "type": "scattergeo"
           }
          ],
          "scattergl": [
           {
            "marker": {
             "colorbar": {
              "outlinewidth": 0,
              "ticks": ""
             }
            },
            "type": "scattergl"
           }
          ],
          "scattermapbox": [
           {
            "marker": {
             "colorbar": {
              "outlinewidth": 0,
              "ticks": ""
             }
            },
            "type": "scattermapbox"
           }
          ],
          "scatterpolar": [
           {
            "marker": {
             "colorbar": {
              "outlinewidth": 0,
              "ticks": ""
             }
            },
            "type": "scatterpolar"
           }
          ],
          "scatterpolargl": [
           {
            "marker": {
             "colorbar": {
              "outlinewidth": 0,
              "ticks": ""
             }
            },
            "type": "scatterpolargl"
           }
          ],
          "scatterternary": [
           {
            "marker": {
             "colorbar": {
              "outlinewidth": 0,
              "ticks": ""
             }
            },
            "type": "scatterternary"
           }
          ],
          "surface": [
           {
            "colorbar": {
             "outlinewidth": 0,
             "ticks": ""
            },
            "colorscale": [
             [
              0,
              "#0d0887"
             ],
             [
              0.1111111111111111,
              "#46039f"
             ],
             [
              0.2222222222222222,
              "#7201a8"
             ],
             [
              0.3333333333333333,
              "#9c179e"
             ],
             [
              0.4444444444444444,
              "#bd3786"
             ],
             [
              0.5555555555555556,
              "#d8576b"
             ],
             [
              0.6666666666666666,
              "#ed7953"
             ],
             [
              0.7777777777777778,
              "#fb9f3a"
             ],
             [
              0.8888888888888888,
              "#fdca26"
             ],
             [
              1,
              "#f0f921"
             ]
            ],
            "type": "surface"
           }
          ],
          "table": [
           {
            "cells": {
             "fill": {
              "color": "#EBF0F8"
             },
             "line": {
              "color": "white"
             }
            },
            "header": {
             "fill": {
              "color": "#C8D4E3"
             },
             "line": {
              "color": "white"
             }
            },
            "type": "table"
           }
          ]
         },
         "layout": {
          "annotationdefaults": {
           "arrowcolor": "#2a3f5f",
           "arrowhead": 0,
           "arrowwidth": 1
          },
          "autotypenumbers": "strict",
          "coloraxis": {
           "colorbar": {
            "outlinewidth": 0,
            "ticks": ""
           }
          },
          "colorscale": {
           "diverging": [
            [
             0,
             "#8e0152"
            ],
            [
             0.1,
             "#c51b7d"
            ],
            [
             0.2,
             "#de77ae"
            ],
            [
             0.3,
             "#f1b6da"
            ],
            [
             0.4,
             "#fde0ef"
            ],
            [
             0.5,
             "#f7f7f7"
            ],
            [
             0.6,
             "#e6f5d0"
            ],
            [
             0.7,
             "#b8e186"
            ],
            [
             0.8,
             "#7fbc41"
            ],
            [
             0.9,
             "#4d9221"
            ],
            [
             1,
             "#276419"
            ]
           ],
           "sequential": [
            [
             0,
             "#0d0887"
            ],
            [
             0.1111111111111111,
             "#46039f"
            ],
            [
             0.2222222222222222,
             "#7201a8"
            ],
            [
             0.3333333333333333,
             "#9c179e"
            ],
            [
             0.4444444444444444,
             "#bd3786"
            ],
            [
             0.5555555555555556,
             "#d8576b"
            ],
            [
             0.6666666666666666,
             "#ed7953"
            ],
            [
             0.7777777777777778,
             "#fb9f3a"
            ],
            [
             0.8888888888888888,
             "#fdca26"
            ],
            [
             1,
             "#f0f921"
            ]
           ],
           "sequentialminus": [
            [
             0,
             "#0d0887"
            ],
            [
             0.1111111111111111,
             "#46039f"
            ],
            [
             0.2222222222222222,
             "#7201a8"
            ],
            [
             0.3333333333333333,
             "#9c179e"
            ],
            [
             0.4444444444444444,
             "#bd3786"
            ],
            [
             0.5555555555555556,
             "#d8576b"
            ],
            [
             0.6666666666666666,
             "#ed7953"
            ],
            [
             0.7777777777777778,
             "#fb9f3a"
            ],
            [
             0.8888888888888888,
             "#fdca26"
            ],
            [
             1,
             "#f0f921"
            ]
           ]
          },
          "colorway": [
           "#636efa",
           "#EF553B",
           "#00cc96",
           "#ab63fa",
           "#FFA15A",
           "#19d3f3",
           "#FF6692",
           "#B6E880",
           "#FF97FF",
           "#FECB52"
          ],
          "font": {
           "color": "#2a3f5f"
          },
          "geo": {
           "bgcolor": "white",
           "lakecolor": "white",
           "landcolor": "#E5ECF6",
           "showlakes": true,
           "showland": true,
           "subunitcolor": "white"
          },
          "hoverlabel": {
           "align": "left"
          },
          "hovermode": "closest",
          "mapbox": {
           "style": "light"
          },
          "paper_bgcolor": "white",
          "plot_bgcolor": "#E5ECF6",
          "polar": {
           "angularaxis": {
            "gridcolor": "white",
            "linecolor": "white",
            "ticks": ""
           },
           "bgcolor": "#E5ECF6",
           "radialaxis": {
            "gridcolor": "white",
            "linecolor": "white",
            "ticks": ""
           }
          },
          "scene": {
           "xaxis": {
            "backgroundcolor": "#E5ECF6",
            "gridcolor": "white",
            "gridwidth": 2,
            "linecolor": "white",
            "showbackground": true,
            "ticks": "",
            "zerolinecolor": "white"
           },
           "yaxis": {
            "backgroundcolor": "#E5ECF6",
            "gridcolor": "white",
            "gridwidth": 2,
            "linecolor": "white",
            "showbackground": true,
            "ticks": "",
            "zerolinecolor": "white"
           },
           "zaxis": {
            "backgroundcolor": "#E5ECF6",
            "gridcolor": "white",
            "gridwidth": 2,
            "linecolor": "white",
            "showbackground": true,
            "ticks": "",
            "zerolinecolor": "white"
           }
          },
          "shapedefaults": {
           "line": {
            "color": "#2a3f5f"
           }
          },
          "ternary": {
           "aaxis": {
            "gridcolor": "white",
            "linecolor": "white",
            "ticks": ""
           },
           "baxis": {
            "gridcolor": "white",
            "linecolor": "white",
            "ticks": ""
           },
           "bgcolor": "#E5ECF6",
           "caxis": {
            "gridcolor": "white",
            "linecolor": "white",
            "ticks": ""
           }
          },
          "title": {
           "x": 0.05
          },
          "xaxis": {
           "automargin": true,
           "gridcolor": "white",
           "linecolor": "white",
           "ticks": "",
           "title": {
            "standoff": 15
           },
           "zerolinecolor": "white",
           "zerolinewidth": 2
          },
          "yaxis": {
           "automargin": true,
           "gridcolor": "white",
           "linecolor": "white",
           "ticks": "",
           "title": {
            "standoff": 15
           },
           "zerolinecolor": "white",
           "zerolinewidth": 2
          }
         }
        },
        "xaxis": {
         "anchor": "y",
         "domain": [
          0,
          1
         ],
         "title": {
          "text": "rev"
         }
        },
        "yaxis": {
         "anchor": "x",
         "domain": [
          0,
          1
         ],
         "title": {
          "text": "count"
         }
        }
       }
      },
      "text/html": [
       "<div>                            <div id=\"a89fc43f-a2c1-41cb-a8f7-a3891ab5e9cc\" class=\"plotly-graph-div\" style=\"height:525px; width:100%;\"></div>            <script type=\"text/javascript\">                require([\"plotly\"], function(Plotly) {                    window.PLOTLYENV=window.PLOTLYENV || {};                                    if (document.getElementById(\"a89fc43f-a2c1-41cb-a8f7-a3891ab5e9cc\")) {                    Plotly.newPlot(                        \"a89fc43f-a2c1-41cb-a8f7-a3891ab5e9cc\",                        [{\"alignmentgroup\":\"True\",\"bingroup\":\"x\",\"hovertemplate\":\"grp=A\\u003cbr\\u003erev=%{x}\\u003cbr\\u003ecount=%{y}\\u003cextra\\u003e\\u003c\\u002fextra\\u003e\",\"legendgroup\":\"A\",\"marker\":{\"color\":\"#636efa\",\"opacity\":0.6,\"pattern\":{\"shape\":\"\"}},\"name\":\"A\",\"offsetgroup\":\"A\",\"orientation\":\"v\",\"showlegend\":true,\"x\":[1530.0,1980.0,580.0,2910.0,690.0,3660.0,840.0,580.0,590.0,290.0,1180.0,199.0,1140.0,580.0,290.0,290.0,199.0,489.0,3660.0,2890.0,590.0,690.0,199.0,1160.0,290.0,2820.0,290.0,2900.0,1039.0,1830.0,1530.0,290.0,580.0,1530.0,840.0,290.0,290.0,2820.0,290.0,290.0,2220.0,290.0,580.0,290.0,690.0,290.0,990.0,1160.0,990.0,290.0,990.0,990.0,290.0,290.0,199.0,690.0,580.0,840.0,199.0,290.0,290.0,290.0,590.0,290.0,590.0,990.0,290.0,590.0,489.0,290.0,870.0,1140.0,290.0,3660.0,2910.0,290.0,398.0,290.0],\"xaxis\":\"x\",\"yaxis\":\"y\",\"type\":\"histogram\"},{\"alignmentgroup\":\"True\",\"bingroup\":\"x\",\"hovertemplate\":\"grp=B\\u003cbr\\u003erev=%{x}\\u003cbr\\u003ecount=%{y}\\u003cextra\\u003e\\u003c\\u002fextra\\u003e\",\"legendgroup\":\"B\",\"marker\":{\"color\":\"#EF553B\",\"opacity\":0.6,\"pattern\":{\"shape\":\"\"}},\"name\":\"B\",\"offsetgroup\":\"B\",\"orientation\":\"v\",\"showlegend\":true,\"x\":[1900.0001,1900.0,1900.0,1900.0,1900.0,690.0,290.0,290.0,690.0,1900.0,990.0,199.0,1900.0001,990.0,1900.0,1900.0,1900.0,1900.0,290.0,1900.0,398.0,690.0,290.0,1900.0,1900.0,580.0,580.0,398.0,199.0,990.0,199.0,1900.0,1900.0,1900.0,1140.0,1900.0,870.0,199.0,290.0,1140.0,1900.0,1900.0,398.0,290.0,1900.0,690.0,3660.0,990.0,1900.0001,1388.0,1900.0,1900.0,1900.0,1530.0,398.0,590.0,590.0,1900.0001,840.0,1900.0001,1140.0,840.0,990.0,290.0,1900.0,199.0,1900.0001,1900.0,690.0,1900.0,2890.0,1900.0001,489.0,1980.0,990.0,1900.0,1900.0,290.0,1530.0,1900.0,290.0,1900.0001,1900.0,1900.0,1900.0,690.0,1900.0,1900.0001,1900.0,1900.0001,199.0,1900.0,990.0,990.0,840.0,290.0,290.0,1900.0001,840.0,1900.0,1900.0,1900.0,1900.0,1900.0,199.0,1140.0,1900.0001,1140.0,1900.0,2890.0,290.0,840.0,1900.0,290.0,840.0,990.0,1729.0,199.0,290.0,1160.0,1900.0001,1140.0,1900.0001,690.0,1900.0,290.0,1900.0,290.0,1900.0001,290.0,290.0,1900.0001,840.0,290.0,290.0,1900.0,290.0,870.0,1900.0001,1900.0,199.0,990.0,290.0,1900.0,290.0,1900.0001,1530.0,1900.0,580.0,690.0,290.0,290.0,1900.0,1900.0,1050.0,4650.0,1900.0001,290.0,290.0,1900.0001,1900.0,1900.0001,1140.0,199.0,199.0,990.0,1900.0,1900.0,690.0,290.0,290.0,840.0,1900.0,2099.0,1900.0001,1900.0,590.0,1900.0,796.0,1900.0,1900.0,199.0,870.0,1900.0001,199.0,690.0,990.0,1900.0,1530.0,199.0,590.0,1900.0001,290.0,1900.0,199.0,1900.0,1900.0001,1900.0,2099.0,2890.0,199.0,290.0,1900.0,1900.0001,1530.0,840.0,290.0,840.0,840.0,590.0,1900.0,580.0,290.0,1900.0,840.0,199.0,990.0,1339.0,1900.0,840.0,1900.0,1900.0,1900.0,1900.0,2190.0,199.0,990.0,990.0,1900.0,290.0,1900.0,870.0,1900.0,1900.0,840.0,2910.0,290.0,1900.0,290.0,290.0,290.0,1900.0,1900.0,199.0,990.0,199.0,840.0,1900.0,1900.0001,1900.0,3040.0,3660.0,590.0,1900.0001,398.0,840.0,2099.0,1900.0,1900.0,1900.0001,3260.0,199.0,1900.0001,2220.0,1900.0,840.0,199.0,199.0,1968.0,1140.0,1900.0001,840.0,840.0,199.0,199.0,1900.0,1900.0,1900.0,290.0,1900.0,1900.0,1900.0001,1140.0,840.0,1900.0,398.0,290.0,580.0,1900.0,290.0,290.0,1900.0,1900.0,199.0,690.0,290.0,990.0,1900.0,1900.0001,690.0,2910.0,840.0,1900.0001,880.0,870.0,1900.0,690.0,1980.0,290.0,1900.0001,1900.0,199.0,597.0,290.0],\"xaxis\":\"x\",\"yaxis\":\"y\",\"type\":\"histogram\"}],                        {\"template\":{\"data\":{\"histogram2dcontour\":[{\"type\":\"histogram2dcontour\",\"colorbar\":{\"outlinewidth\":0,\"ticks\":\"\"},\"colorscale\":[[0.0,\"#0d0887\"],[0.1111111111111111,\"#46039f\"],[0.2222222222222222,\"#7201a8\"],[0.3333333333333333,\"#9c179e\"],[0.4444444444444444,\"#bd3786\"],[0.5555555555555556,\"#d8576b\"],[0.6666666666666666,\"#ed7953\"],[0.7777777777777778,\"#fb9f3a\"],[0.8888888888888888,\"#fdca26\"],[1.0,\"#f0f921\"]]}],\"choropleth\":[{\"type\":\"choropleth\",\"colorbar\":{\"outlinewidth\":0,\"ticks\":\"\"}}],\"histogram2d\":[{\"type\":\"histogram2d\",\"colorbar\":{\"outlinewidth\":0,\"ticks\":\"\"},\"colorscale\":[[0.0,\"#0d0887\"],[0.1111111111111111,\"#46039f\"],[0.2222222222222222,\"#7201a8\"],[0.3333333333333333,\"#9c179e\"],[0.4444444444444444,\"#bd3786\"],[0.5555555555555556,\"#d8576b\"],[0.6666666666666666,\"#ed7953\"],[0.7777777777777778,\"#fb9f3a\"],[0.8888888888888888,\"#fdca26\"],[1.0,\"#f0f921\"]]}],\"heatmap\":[{\"type\":\"heatmap\",\"colorbar\":{\"outlinewidth\":0,\"ticks\":\"\"},\"colorscale\":[[0.0,\"#0d0887\"],[0.1111111111111111,\"#46039f\"],[0.2222222222222222,\"#7201a8\"],[0.3333333333333333,\"#9c179e\"],[0.4444444444444444,\"#bd3786\"],[0.5555555555555556,\"#d8576b\"],[0.6666666666666666,\"#ed7953\"],[0.7777777777777778,\"#fb9f3a\"],[0.8888888888888888,\"#fdca26\"],[1.0,\"#f0f921\"]]}],\"heatmapgl\":[{\"type\":\"heatmapgl\",\"colorbar\":{\"outlinewidth\":0,\"ticks\":\"\"},\"colorscale\":[[0.0,\"#0d0887\"],[0.1111111111111111,\"#46039f\"],[0.2222222222222222,\"#7201a8\"],[0.3333333333333333,\"#9c179e\"],[0.4444444444444444,\"#bd3786\"],[0.5555555555555556,\"#d8576b\"],[0.6666666666666666,\"#ed7953\"],[0.7777777777777778,\"#fb9f3a\"],[0.8888888888888888,\"#fdca26\"],[1.0,\"#f0f921\"]]}],\"contourcarpet\":[{\"type\":\"contourcarpet\",\"colorbar\":{\"outlinewidth\":0,\"ticks\":\"\"}}],\"contour\":[{\"type\":\"contour\",\"colorbar\":{\"outlinewidth\":0,\"ticks\":\"\"},\"colorscale\":[[0.0,\"#0d0887\"],[0.1111111111111111,\"#46039f\"],[0.2222222222222222,\"#7201a8\"],[0.3333333333333333,\"#9c179e\"],[0.4444444444444444,\"#bd3786\"],[0.5555555555555556,\"#d8576b\"],[0.6666666666666666,\"#ed7953\"],[0.7777777777777778,\"#fb9f3a\"],[0.8888888888888888,\"#fdca26\"],[1.0,\"#f0f921\"]]}],\"surface\":[{\"type\":\"surface\",\"colorbar\":{\"outlinewidth\":0,\"ticks\":\"\"},\"colorscale\":[[0.0,\"#0d0887\"],[0.1111111111111111,\"#46039f\"],[0.2222222222222222,\"#7201a8\"],[0.3333333333333333,\"#9c179e\"],[0.4444444444444444,\"#bd3786\"],[0.5555555555555556,\"#d8576b\"],[0.6666666666666666,\"#ed7953\"],[0.7777777777777778,\"#fb9f3a\"],[0.8888888888888888,\"#fdca26\"],[1.0,\"#f0f921\"]]}],\"mesh3d\":[{\"type\":\"mesh3d\",\"colorbar\":{\"outlinewidth\":0,\"ticks\":\"\"}}],\"scatter\":[{\"fillpattern\":{\"fillmode\":\"overlay\",\"size\":10,\"solidity\":0.2},\"type\":\"scatter\"}],\"parcoords\":[{\"type\":\"parcoords\",\"line\":{\"colorbar\":{\"outlinewidth\":0,\"ticks\":\"\"}}}],\"scatterpolargl\":[{\"type\":\"scatterpolargl\",\"marker\":{\"colorbar\":{\"outlinewidth\":0,\"ticks\":\"\"}}}],\"bar\":[{\"error_x\":{\"color\":\"#2a3f5f\"},\"error_y\":{\"color\":\"#2a3f5f\"},\"marker\":{\"line\":{\"color\":\"#E5ECF6\",\"width\":0.5},\"pattern\":{\"fillmode\":\"overlay\",\"size\":10,\"solidity\":0.2}},\"type\":\"bar\"}],\"scattergeo\":[{\"type\":\"scattergeo\",\"marker\":{\"colorbar\":{\"outlinewidth\":0,\"ticks\":\"\"}}}],\"scatterpolar\":[{\"type\":\"scatterpolar\",\"marker\":{\"colorbar\":{\"outlinewidth\":0,\"ticks\":\"\"}}}],\"histogram\":[{\"marker\":{\"pattern\":{\"fillmode\":\"overlay\",\"size\":10,\"solidity\":0.2}},\"type\":\"histogram\"}],\"scattergl\":[{\"type\":\"scattergl\",\"marker\":{\"colorbar\":{\"outlinewidth\":0,\"ticks\":\"\"}}}],\"scatter3d\":[{\"type\":\"scatter3d\",\"line\":{\"colorbar\":{\"outlinewidth\":0,\"ticks\":\"\"}},\"marker\":{\"colorbar\":{\"outlinewidth\":0,\"ticks\":\"\"}}}],\"scattermapbox\":[{\"type\":\"scattermapbox\",\"marker\":{\"colorbar\":{\"outlinewidth\":0,\"ticks\":\"\"}}}],\"scatterternary\":[{\"type\":\"scatterternary\",\"marker\":{\"colorbar\":{\"outlinewidth\":0,\"ticks\":\"\"}}}],\"scattercarpet\":[{\"type\":\"scattercarpet\",\"marker\":{\"colorbar\":{\"outlinewidth\":0,\"ticks\":\"\"}}}],\"carpet\":[{\"aaxis\":{\"endlinecolor\":\"#2a3f5f\",\"gridcolor\":\"white\",\"linecolor\":\"white\",\"minorgridcolor\":\"white\",\"startlinecolor\":\"#2a3f5f\"},\"baxis\":{\"endlinecolor\":\"#2a3f5f\",\"gridcolor\":\"white\",\"linecolor\":\"white\",\"minorgridcolor\":\"white\",\"startlinecolor\":\"#2a3f5f\"},\"type\":\"carpet\"}],\"table\":[{\"cells\":{\"fill\":{\"color\":\"#EBF0F8\"},\"line\":{\"color\":\"white\"}},\"header\":{\"fill\":{\"color\":\"#C8D4E3\"},\"line\":{\"color\":\"white\"}},\"type\":\"table\"}],\"barpolar\":[{\"marker\":{\"line\":{\"color\":\"#E5ECF6\",\"width\":0.5},\"pattern\":{\"fillmode\":\"overlay\",\"size\":10,\"solidity\":0.2}},\"type\":\"barpolar\"}],\"pie\":[{\"automargin\":true,\"type\":\"pie\"}]},\"layout\":{\"autotypenumbers\":\"strict\",\"colorway\":[\"#636efa\",\"#EF553B\",\"#00cc96\",\"#ab63fa\",\"#FFA15A\",\"#19d3f3\",\"#FF6692\",\"#B6E880\",\"#FF97FF\",\"#FECB52\"],\"font\":{\"color\":\"#2a3f5f\"},\"hovermode\":\"closest\",\"hoverlabel\":{\"align\":\"left\"},\"paper_bgcolor\":\"white\",\"plot_bgcolor\":\"#E5ECF6\",\"polar\":{\"bgcolor\":\"#E5ECF6\",\"angularaxis\":{\"gridcolor\":\"white\",\"linecolor\":\"white\",\"ticks\":\"\"},\"radialaxis\":{\"gridcolor\":\"white\",\"linecolor\":\"white\",\"ticks\":\"\"}},\"ternary\":{\"bgcolor\":\"#E5ECF6\",\"aaxis\":{\"gridcolor\":\"white\",\"linecolor\":\"white\",\"ticks\":\"\"},\"baxis\":{\"gridcolor\":\"white\",\"linecolor\":\"white\",\"ticks\":\"\"},\"caxis\":{\"gridcolor\":\"white\",\"linecolor\":\"white\",\"ticks\":\"\"}},\"coloraxis\":{\"colorbar\":{\"outlinewidth\":0,\"ticks\":\"\"}},\"colorscale\":{\"sequential\":[[0.0,\"#0d0887\"],[0.1111111111111111,\"#46039f\"],[0.2222222222222222,\"#7201a8\"],[0.3333333333333333,\"#9c179e\"],[0.4444444444444444,\"#bd3786\"],[0.5555555555555556,\"#d8576b\"],[0.6666666666666666,\"#ed7953\"],[0.7777777777777778,\"#fb9f3a\"],[0.8888888888888888,\"#fdca26\"],[1.0,\"#f0f921\"]],\"sequentialminus\":[[0.0,\"#0d0887\"],[0.1111111111111111,\"#46039f\"],[0.2222222222222222,\"#7201a8\"],[0.3333333333333333,\"#9c179e\"],[0.4444444444444444,\"#bd3786\"],[0.5555555555555556,\"#d8576b\"],[0.6666666666666666,\"#ed7953\"],[0.7777777777777778,\"#fb9f3a\"],[0.8888888888888888,\"#fdca26\"],[1.0,\"#f0f921\"]],\"diverging\":[[0,\"#8e0152\"],[0.1,\"#c51b7d\"],[0.2,\"#de77ae\"],[0.3,\"#f1b6da\"],[0.4,\"#fde0ef\"],[0.5,\"#f7f7f7\"],[0.6,\"#e6f5d0\"],[0.7,\"#b8e186\"],[0.8,\"#7fbc41\"],[0.9,\"#4d9221\"],[1,\"#276419\"]]},\"xaxis\":{\"gridcolor\":\"white\",\"linecolor\":\"white\",\"ticks\":\"\",\"title\":{\"standoff\":15},\"zerolinecolor\":\"white\",\"automargin\":true,\"zerolinewidth\":2},\"yaxis\":{\"gridcolor\":\"white\",\"linecolor\":\"white\",\"ticks\":\"\",\"title\":{\"standoff\":15},\"zerolinecolor\":\"white\",\"automargin\":true,\"zerolinewidth\":2},\"scene\":{\"xaxis\":{\"backgroundcolor\":\"#E5ECF6\",\"gridcolor\":\"white\",\"linecolor\":\"white\",\"showbackground\":true,\"ticks\":\"\",\"zerolinecolor\":\"white\",\"gridwidth\":2},\"yaxis\":{\"backgroundcolor\":\"#E5ECF6\",\"gridcolor\":\"white\",\"linecolor\":\"white\",\"showbackground\":true,\"ticks\":\"\",\"zerolinecolor\":\"white\",\"gridwidth\":2},\"zaxis\":{\"backgroundcolor\":\"#E5ECF6\",\"gridcolor\":\"white\",\"linecolor\":\"white\",\"showbackground\":true,\"ticks\":\"\",\"zerolinecolor\":\"white\",\"gridwidth\":2}},\"shapedefaults\":{\"line\":{\"color\":\"#2a3f5f\"}},\"annotationdefaults\":{\"arrowcolor\":\"#2a3f5f\",\"arrowhead\":0,\"arrowwidth\":1},\"geo\":{\"bgcolor\":\"white\",\"landcolor\":\"#E5ECF6\",\"subunitcolor\":\"white\",\"showland\":true,\"showlakes\":true,\"lakecolor\":\"white\"},\"title\":{\"x\":0.05},\"mapbox\":{\"style\":\"light\"}}},\"xaxis\":{\"anchor\":\"y\",\"domain\":[0.0,1.0],\"title\":{\"text\":\"rev\"}},\"yaxis\":{\"anchor\":\"x\",\"domain\":[0.0,1.0],\"title\":{\"text\":\"count\"}},\"legend\":{\"title\":{\"text\":\"grp\"},\"tracegroupgap\":0},\"margin\":{\"t\":60},\"barmode\":\"relative\"},                        {\"responsive\": true}                    ).then(function(){\n",
       "                            \n",
       "var gd = document.getElementById('a89fc43f-a2c1-41cb-a8f7-a3891ab5e9cc');\n",
       "var x = new MutationObserver(function (mutations, observer) {{\n",
       "        var display = window.getComputedStyle(gd).display;\n",
       "        if (!display || display === 'none') {{\n",
       "            console.log([gd, 'removed!']);\n",
       "            Plotly.purge(gd);\n",
       "            observer.disconnect();\n",
       "        }}\n",
       "}});\n",
       "\n",
       "// Listen for the removal of the full notebook cells\n",
       "var notebookContainer = gd.closest('#notebook-container');\n",
       "if (notebookContainer) {{\n",
       "    x.observe(notebookContainer, {childList: true});\n",
       "}}\n",
       "\n",
       "// Listen for the clearing of the current output cell\n",
       "var outputEl = gd.closest('.output');\n",
       "if (outputEl) {{\n",
       "    x.observe(outputEl, {childList: true});\n",
       "}}\n",
       "\n",
       "                        })                };                });            </script>        </div>"
      ]
     },
     "metadata": {},
     "output_type": "display_data"
    }
   ],
   "source": [
    "px.histogram(enter_and_buy[enter_and_buy['rev'] != 0], x='rev', color='grp', opacity=0.6)"
   ]
  },
  {
   "cell_type": "markdown",
   "id": "fd4e35fb",
   "metadata": {},
   "source": [
    "Распределение отличается от нормального. Проверим с помощью стат. критериев"
   ]
  },
  {
   "cell_type": "code",
   "execution_count": 42,
   "id": "37f8ceec",
   "metadata": {},
   "outputs": [
    {
     "data": {
      "text/plain": [
       "ShapiroResult(statistic=0.7353236079216003, pvalue=1.4986822893803264e-10)"
      ]
     },
     "execution_count": 42,
     "metadata": {},
     "output_type": "execute_result"
    }
   ],
   "source": [
    "ss.shapiro(enter_and_buy_A.rev)"
   ]
  },
  {
   "cell_type": "code",
   "execution_count": 43,
   "id": "1fc4b9c9",
   "metadata": {},
   "outputs": [
    {
     "data": {
      "text/plain": [
       "ShapiroResult(statistic=0.8547235727310181, pvalue=1.5437024585965894e-16)"
      ]
     },
     "execution_count": 43,
     "metadata": {},
     "output_type": "execute_result"
    }
   ],
   "source": [
    "ss.shapiro(enter_and_buy_B.rev)"
   ]
  },
  {
   "cell_type": "markdown",
   "id": "dbb87436",
   "metadata": {},
   "source": [
    "P-value значительно меньше 0.05, что подвтерждает первоначальный вывод о ненормальности распределения. "
   ]
  },
  {
   "cell_type": "markdown",
   "id": "944b228f",
   "metadata": {},
   "source": [
    "Проверим дисперсию внутри групп\n",
    "\n",
    "\n",
    "- H₀: Дисперсии данных о доходах в каждой группе не отличаются.\n",
    "- H₁: Дисперсии статистически различаются."
   ]
  },
  {
   "cell_type": "code",
   "execution_count": 44,
   "id": "3faff304",
   "metadata": {},
   "outputs": [],
   "source": [
    "levene_stat, p_value_levene = ss.levene(enter_and_buy_A.rev, enter_and_buy_B.rev)"
   ]
  },
  {
   "cell_type": "code",
   "execution_count": 58,
   "id": "ef4d845e",
   "metadata": {},
   "outputs": [
    {
     "name": "stdout",
     "output_type": "stream",
     "text": [
      "Оставляем H₀ — дисперсии не имеют статистически значимых различий\n"
     ]
    }
   ],
   "source": [
    "print(\"Оставляем H₀ — дисперсии не имеют статистически значимых различий\" if p_value_levene > 0.05 else 'Оставляем H₁ — статистически различаются')"
   ]
  },
  {
   "cell_type": "markdown",
   "id": "c3a45cbd",
   "metadata": {},
   "source": [
    "Применим критерий Колмогорова-Смирнова"
   ]
  },
  {
   "cell_type": "code",
   "execution_count": 46,
   "id": "974845ae",
   "metadata": {},
   "outputs": [
    {
     "data": {
      "text/plain": [
       "KstestResult(statistic=0.323942511840601, pvalue=2.3982639157926755e-06)"
      ]
     },
     "execution_count": 46,
     "metadata": {},
     "output_type": "execute_result"
    }
   ],
   "source": [
    "ss.kstest(enter_and_buy_A.rev, enter_and_buy_B.rev)"
   ]
  },
  {
   "cell_type": "markdown",
   "id": "e9cb8d0d",
   "metadata": {},
   "source": [
    "Вывод: pvalue ниже 0.05 следовательно мы отвергаем H0 и принимаем альтернативную - различия в выручке имеются."
   ]
  },
  {
   "cell_type": "markdown",
   "id": "418ccf60",
   "metadata": {},
   "source": [
    "### Рассчитаем основные метрики\n",
    "Посмотрим на основные метрики по выручке ARPU и ARPAU. Активными будем считать тех, кто зашел на сайт. ARPU посчитаем по всем пользователям, попавшим в группу.\n",
    "сделаю эту сразу с помощью функции"
   ]
  },
  {
   "cell_type": "markdown",
   "id": "e7a2b87e",
   "metadata": {},
   "source": [
    "Задание 3. Python  \n",
    "3.1 Задача  \n",
    "\n",
    "Реализуйте функцию, которая будет автоматически подгружать информацию из дополнительного файла groups_add.csv (заголовки могут отличаться) и на основании дополнительных параметров пересчитывать метрики.\n",
    "Реализуйте функцию, которая будет строить графики по получаемым метрикам."
   ]
  },
  {
   "cell_type": "code",
   "execution_count": 47,
   "id": "1bcabd42",
   "metadata": {},
   "outputs": [],
   "source": [
    "def count_metrics(data, data_add, active_users, paying_users):\n",
    "    data = data.rename(columns={data.columns[0]:'id', data.columns[1]: 'grp'})\n",
    "    active_users['enter'] = 1 #сразу создадим колонку с 1(факт захода на сайт)\n",
    "    data_add = data_add.rename(columns={data_add.columns[0]:'id', data_add.columns[1]: 'grp'})\n",
    "    all_groups = pd.concat([data, data_add])\n",
    "    all_data = pd.merge(all_groups, active_users, how='left', left_on='id', right_on='student_id') \\\n",
    "                 .fillna(0) \\\n",
    "                 .merge(paying_users, how='left', left_on='id', right_on='student_id').fillna(0) \\\n",
    "                 [['id', 'grp', 'enter', 'rev']]\n",
    "    #можно добавить строку кода, очищающую дф от багов (купил, но не зашел)\n",
    "    #но тк у меня в ф-ии прописаны конкретные условия расчета, то переделывать не вижу большого смысла\n",
    "    #all_data = all_data.drop(all_data[(all_data.rev > 0) & (all_data.enter == 0)].index)\n",
    "    all_data_A = all_data.loc[all_data['grp'] == 'A']\n",
    "    all_data_B = all_data.loc[all_data['grp'] == 'B']\n",
    "    metrics = {'A': {}, 'B': {}}\n",
    "    #кто зашел/все кто в группе\n",
    "    metrics['A']['CR_enter'] = all_data_A.enter.sum() / all_data_A.enter.count() * 100\n",
    "    metrics['B']['CR_enter'] = all_data_B.enter.sum() / all_data_B.enter.count() * 100\n",
    "    #количество зашедших и купивших / количество зашедших \n",
    "    metrics['A']['CR_buy'] = all_data_A.query('rev > 0 & enter > 0').rev.count() / all_data_A.enter.sum() * 100\n",
    "    metrics['B']['CR_buy'] = all_data_B.query('rev > 0 & enter > 0').rev.count() / all_data_B.enter.sum() * 100\n",
    "    #сумма выручки / количество людей в группе\n",
    "    metrics['A']['ARPU'] = all_data_A.rev.sum() / all_data_A.rev.count()\n",
    "    metrics['B']['ARPU'] = all_data_B.rev.sum() / all_data_B.rev.count()\n",
    "    #сумма выручки кто зашел и купил / количество зашедших\n",
    "    metrics['A']['ARPAU'] = all_data_A.query('rev > 0 & enter > 0').rev.sum() / all_data_A.enter.sum()\n",
    "    metrics['B']['ARPAU'] = all_data_B.query('rev > 0 & enter > 0').rev.sum() / all_data_B.enter.sum()\n",
    "    \n",
    "    summary_table = pd.DataFrame(data=metrics).round(2)\n",
    "    \n",
    "    return summary_table"
   ]
  },
  {
   "cell_type": "markdown",
   "id": "f8d92d17",
   "metadata": {},
   "source": [
    "### Построим сводную таблицу"
   ]
  },
  {
   "cell_type": "code",
   "execution_count": 48,
   "id": "1f95d72c",
   "metadata": {},
   "outputs": [],
   "source": [
    "summary_table = count_metrics(groups, group_add, active_studs, checks)"
   ]
  },
  {
   "cell_type": "code",
   "execution_count": 73,
   "id": "5d5668b7",
   "metadata": {},
   "outputs": [
    {
     "data": {
      "text/html": [
       "<div>\n",
       "<style scoped>\n",
       "    .dataframe tbody tr th:only-of-type {\n",
       "        vertical-align: middle;\n",
       "    }\n",
       "\n",
       "    .dataframe tbody tr th {\n",
       "        vertical-align: top;\n",
       "    }\n",
       "\n",
       "    .dataframe thead th {\n",
       "        text-align: right;\n",
       "    }\n",
       "</style>\n",
       "<table border=\"1\" class=\"dataframe\">\n",
       "  <thead>\n",
       "    <tr style=\"text-align: right;\">\n",
       "      <th></th>\n",
       "      <th>A</th>\n",
       "      <th>B</th>\n",
       "    </tr>\n",
       "  </thead>\n",
       "  <tbody>\n",
       "    <tr>\n",
       "      <th>CR_enter</th>\n",
       "      <td>10.47</td>\n",
       "      <td>11.36</td>\n",
       "    </tr>\n",
       "    <tr>\n",
       "      <th>CR_buy</th>\n",
       "      <td>5.07</td>\n",
       "      <td>4.62</td>\n",
       "    </tr>\n",
       "    <tr>\n",
       "      <th>ARPU</th>\n",
       "      <td>6.27</td>\n",
       "      <td>8.04</td>\n",
       "    </tr>\n",
       "    <tr>\n",
       "      <th>ARPAU</th>\n",
       "      <td>47.35</td>\n",
       "      <td>58.06</td>\n",
       "    </tr>\n",
       "  </tbody>\n",
       "</table>\n",
       "</div>"
      ],
      "text/plain": [
       "              A      B\n",
       "CR_enter  10.47  11.36\n",
       "CR_buy     5.07   4.62\n",
       "ARPU       6.27   8.04\n",
       "ARPAU     47.35  58.06"
      ]
     },
     "execution_count": 73,
     "metadata": {},
     "output_type": "execute_result"
    }
   ],
   "source": [
    "summary_table"
   ]
  },
  {
   "cell_type": "markdown",
   "id": "4a2da5be",
   "metadata": {},
   "source": [
    "Для отслеживания успеха тестирования я бы выбрала две метрики это конверсия в платящего и средний чек на активного пользователя. Активного - потому что нам важно понимать, какой доход несет зашедший на сайт человек, вне зависимости от факта оплаты, т.к. за несовершившего покупку мы несем определенные расходы. Но расчеты и графики я бы оставила по всем 4 метрикам. "
   ]
  },
  {
   "cell_type": "markdown",
   "id": "263e45a7",
   "metadata": {},
   "source": [
    "### Построение графиков"
   ]
  },
  {
   "cell_type": "code",
   "execution_count": 49,
   "id": "01bbb090",
   "metadata": {},
   "outputs": [],
   "source": [
    "def graph(summary_table):\n",
    "    list_of_rows = summary_table.index.to_list()\n",
    "    X = list_of_rows[:2]\n",
    "    grA = summary_table.A[:2]\n",
    "    grB = summary_table.B[:2]\n",
    "\n",
    "    X_axis = np.arange(len(X)) \n",
    "\n",
    "    plt.bar(X_axis - 0.2, grA, 0.4, label = 'A') \n",
    "    plt.bar(X_axis + 0.2, grB, 0.4, label = 'B') \n",
    "\n",
    "    plt.xticks(X_axis, X) \n",
    "    plt.xlabel(\"Groups\") \n",
    "    plt.ylabel(\"Percent\") \n",
    "    plt.title(\"Metrics\")\n",
    "    plt.legend() \n",
    "    plt.show()\n",
    "    \n",
    "    X = list_of_rows[2:]\n",
    "    grA = summary_table.A[2:]\n",
    "    grB = summary_table.B[2:]\n",
    "\n",
    "    X_axis = np.arange(len(X)) \n",
    "\n",
    "    plt.bar(X_axis - 0.2, grA, 0.4, label = 'A') \n",
    "    plt.bar(X_axis + 0.2, grB, 0.4, label = 'B') \n",
    "\n",
    "    plt.xticks(X_axis, X) \n",
    "    plt.xlabel(\"Groups\") \n",
    "    plt.ylabel(\"Revenue, $\") \n",
    "    plt.legend() "
   ]
  },
  {
   "cell_type": "code",
   "execution_count": 50,
   "id": "fe150a32",
   "metadata": {},
   "outputs": [
    {
     "data": {
      "image/png": "[encoded data removed]",
      "text/plain": [
       "<Figure size 432x288 with 1 Axes>"
      ]
     },
     "metadata": {
      "needs_background": "light"
     },
     "output_type": "display_data"
    },
    {
     "data": {
      "image/png": "[encoded data removed]",
      "text/plain": [
       "<Figure size 432x288 with 1 Axes>"
      ]
     },
     "metadata": {
      "needs_background": "light"
     },
     "output_type": "display_data"
    }
   ],
   "source": [
    "graph(summary_table)"
   ]
  },
  {
   "cell_type": "code",
   "execution_count": 51,
   "id": "427252cf",
   "metadata": {},
   "outputs": [
    {
     "data": {
      "text/html": [
       "<div>\n",
       "<style scoped>\n",
       "    .dataframe tbody tr th:only-of-type {\n",
       "        vertical-align: middle;\n",
       "    }\n",
       "\n",
       "    .dataframe tbody tr th {\n",
       "        vertical-align: top;\n",
       "    }\n",
       "\n",
       "    .dataframe thead th {\n",
       "        text-align: right;\n",
       "    }\n",
       "</style>\n",
       "<table border=\"1\" class=\"dataframe\">\n",
       "  <thead>\n",
       "    <tr style=\"text-align: right;\">\n",
       "      <th></th>\n",
       "      <th>A</th>\n",
       "      <th>B</th>\n",
       "    </tr>\n",
       "  </thead>\n",
       "  <tbody>\n",
       "    <tr>\n",
       "      <th>CR_enter</th>\n",
       "      <td>10.47</td>\n",
       "      <td>11.36</td>\n",
       "    </tr>\n",
       "    <tr>\n",
       "      <th>CR_buy</th>\n",
       "      <td>5.07</td>\n",
       "      <td>4.62</td>\n",
       "    </tr>\n",
       "    <tr>\n",
       "      <th>ARPU</th>\n",
       "      <td>6.27</td>\n",
       "      <td>8.04</td>\n",
       "    </tr>\n",
       "    <tr>\n",
       "      <th>ARPAU</th>\n",
       "      <td>47.35</td>\n",
       "      <td>58.06</td>\n",
       "    </tr>\n",
       "  </tbody>\n",
       "</table>\n",
       "</div>"
      ],
      "text/plain": [
       "              A      B\n",
       "CR_enter  10.47  11.36\n",
       "CR_buy     5.07   4.62\n",
       "ARPU       6.27   8.04\n",
       "ARPAU     47.35  58.06"
      ]
     },
     "execution_count": 51,
     "metadata": {},
     "output_type": "execute_result"
    }
   ],
   "source": [
    "#Взглянем еще раз на общую таблицу\n",
    "summary_table"
   ]
  },
  {
   "cell_type": "markdown",
   "id": "917af2c1",
   "metadata": {},
   "source": [
    "### Вывод"
   ]
  },
  {
   "cell_type": "markdown",
   "id": "ad2d90d6",
   "metadata": {},
   "source": [
    "Вывод: наша целевая метрика это конверсия в оплату. Несмотря на то, что стат значимых различий не удалось зафиксировать, а при расчете фактических значений она даже меньше, чем была в контрольной группе, я бы все равно рекомендовала применить новую систему оплаты, потому что удалось зафиксировать стат значимые различия в средних чеках платящих пользователей. Это говорит о том, что наши улучшения не коснулись области принятия решения о покупке, возможно они не так очевидны на этом этапе. Но приняв решение о покупке (на основе других факторов) пользователь замечает удобство и либо покупает больше за раз, либо просто чаще (для этого нужна информация о количестве платежей или же с платежами по датам). "
   ]
  },
  {
   "cell_type": "markdown",
   "id": "ca0aed0d",
   "metadata": {},
   "source": [
    "## Задание 2. SQL"
   ]
  },
  {
   "cell_type": "markdown",
   "id": "3279ef25",
   "metadata": {},
   "source": [
    "2.1 Очень усердные ученики.\n",
    "\n",
    "Образовательные курсы состоят из различных уроков, каждый из которых состоит из нескольких маленьких заданий. Каждое такое маленькое задание называется \"горошиной\".\n",
    "Назовём очень усердным учеником того пользователя, который хотя бы раз за текущий месяц правильно решил 20 горошин.\n",
    "Необходимо написать оптимальный запрос, который даст информацию о количестве очень усердных студентов.NB! Под усердным студентом мы понимаем студента, который правильно решил 20 задач за текущий месяц."
   ]
  },
  {
   "cell_type": "markdown",
   "id": "4f8178d0",
   "metadata": {},
   "source": [
    "```sql\n",
    "select count(1) from (\n",
    "select count(correct)\n",
    "from peas\n",
    "where correct=true\n",
    "group by st_id, correct\n",
    "having count(correct) >= 20) t1;\n",
    "```"
   ]
  },
  {
   "cell_type": "markdown",
   "id": "481624ae",
   "metadata": {},
   "source": [
    "2.2\n",
    "Образовательная платформа предлагает пройти студентам курсы по модели trial: студент может решить бесплатно лишь 30 горошин в день. Для неограниченного количества заданий в определенной дисциплине студенту необходимо приобрести полный доступ. Команда провела эксперимент, где был протестирован новый экран оплаты.\n",
    "Необходимо в одном запросе выгрузить следующую информацию о группах пользователей:\n",
    "\n",
    "ARPU   \n",
    "ARPAU  \n",
    "CR в покупку   \n",
    "СR активного пользователя в покупку  \n",
    "CR пользователя из активности по математике (subject = ’math’) в покупку курса по математике\n",
    "ARPU считается относительно всех пользователей, попавших в группы.\n",
    "\n",
    "Активным считается пользователь, за все время решивший больше 10 задач правильно в любых дисциплинах.\n",
    "\n",
    "Активным по математике считается пользователь, за все время решивший 2 или больше задач правильно по математике.\n",
    "\n"
   ]
  },
  {
   "cell_type": "markdown",
   "id": "8d6de716",
   "metadata": {},
   "source": [
    "```sql\n",
    "Для удобства чтения запроса создадим CTE, где объединим всю информацию, чтобы из нее потом вытаскивать нужные расчеты.\n",
    "\n",
    "with t1 as \n",
    "(\n",
    "select st_id, \n",
    "       test_grp, \n",
    "       count(correct) AS all_tasks, \n",
    "       count(CASE WHEN correct = true THEN 1 END) as solved_tasks,  \n",
    "       SUM(CASE WHEN Money is not NULL THEN money ELSE 0 END) revenue,\n",
    "       count(peas.subject) filter(where peas.subject='Math' and correct=true) as math_tasks\n",
    "from studs\n",
    "left join peas using(st_id)\n",
    "left join final_project_check using(st_id)\n",
    "group by st_id, test_grp)\n",
    "\n",
    "select test_grp, avg(revenue) AS ARPU,\n",
    "avg(revenue) filter(where solved_tasks > 10 and revenue>0) AS ARPAU,\n",
    "count(revenue) filter(where revenue > 0) / cast(count(revenue) as float) as CR,\n",
    "count(revenue) filter(where revenue > 0 and solved_tasks > 10) / cast(count(revenue) filter(where solved_tasks > 10) as float) as CR_active,\n",
    "count(revenue) filter(where math_tasks > 1 and revenue > 0) / cast(count(revenue) filter(where math_tasks > 1) as float) as math_active\n",
    "from t1\n",
    "group by test_grp\n",
    "```"
   ]
  }
 ],
 "metadata": {
  "kernelspec": {
   "display_name": "Python 3",
   "language": "python",
   "name": "python3"
  },
  "language_info": {
   "codemirror_mode": {
    "name": "ipython",
    "version": 3
   },
   "file_extension": ".py",
   "mimetype": "text/x-python",
   "name": "python",
   "nbconvert_exporter": "python",
   "pygments_lexer": "ipython3",
   "version": "3.7.6"
  }
 },
 "nbformat": 4,
 "nbformat_minor": 5
}
